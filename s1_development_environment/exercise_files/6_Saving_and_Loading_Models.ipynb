{
 "cells": [
  {
   "cell_type": "markdown",
   "metadata": {},
   "source": [
    "# Saving and Loading Models\n",
    "\n",
    "In this notebook, I'll show you how to save and load models with PyTorch. This is important because you'll often want to load previously trained models to use in making predictions or to continue training on new data."
   ]
  },
  {
   "cell_type": "code",
   "execution_count": 2,
   "metadata": {},
   "outputs": [],
   "source": [
    "%matplotlib inline\n",
    "%config InlineBackend.figure_format = 'retina'\n",
    "\n",
    "\n",
    "import fc_model\n",
    "import helper\n",
    "import torch\n",
    "from torch import nn, optim\n",
    "from torchvision import datasets, transforms"
   ]
  },
  {
   "cell_type": "code",
   "execution_count": 3,
   "metadata": {},
   "outputs": [],
   "source": [
    "# Define a transform to normalize the data\n",
    "transform = transforms.Compose([transforms.ToTensor(), transforms.Normalize((0.5,), (0.5,))])\n",
    "# Download and load the training data\n",
    "trainset = datasets.FashionMNIST(\"~/.pytorch/F_MNIST_data/\", download=True, train=True, transform=transform)\n",
    "trainloader = torch.utils.data.DataLoader(trainset, batch_size=64, shuffle=True)\n",
    "\n",
    "# Download and load the test data\n",
    "testset = datasets.FashionMNIST(\"~/.pytorch/F_MNIST_data/\", download=True, train=False, transform=transform)\n",
    "testloader = torch.utils.data.DataLoader(testset, batch_size=64, shuffle=True)"
   ]
  },
  {
   "cell_type": "markdown",
   "metadata": {},
   "source": [
    "Here we can see one of the images."
   ]
  },
  {
   "cell_type": "code",
   "execution_count": 5,
   "metadata": {},
   "outputs": [
    {
     "data": {
      "image/png": "[encoded data removed]",
      "text/plain": [
       "<Figure size 640x480 with 1 Axes>"
      ]
     },
     "metadata": {
      "image/png": {
       "height": 389,
       "width": 389
      }
     },
     "output_type": "display_data"
    }
   ],
   "source": [
    "image, label = next(iter(trainloader))\n",
    "helper.imshow(image[0, :]);"
   ]
  },
  {
   "cell_type": "markdown",
   "metadata": {},
   "source": [
    "# Train a network\n",
    "\n",
    "To make things more concise here, I moved the model architecture and training code from the last part to a file called `fc_model`. Importing this, we can easily create a fully-connected network with `fc_model.Network`, and train the network using `fc_model.train`. I'll use this model (once it's trained) to demonstrate how we can save and load models."
   ]
  },
  {
   "cell_type": "code",
   "execution_count": 6,
   "metadata": {},
   "outputs": [],
   "source": [
    "# Create the network, define the criterion and optimizer\n",
    "\n",
    "model = fc_model.Network(784, 10, [512, 256, 128])\n",
    "criterion = nn.NLLLoss()\n",
    "optimizer = optim.Adam(model.parameters(), lr=0.001)"
   ]
  },
  {
   "cell_type": "code",
   "execution_count": 7,
   "metadata": {},
   "outputs": [
    {
     "name": "stdout",
     "output_type": "stream",
     "text": [
      "Epoch: 1/2..  Training Loss: 1.679..  Test Loss: 0.949..  Test Accuracy: 0.659\n",
      "Epoch: 1/2..  Training Loss: 1.010..  Test Loss: 0.752..  Test Accuracy: 0.703\n",
      "Epoch: 1/2..  Training Loss: 0.849..  Test Loss: 0.677..  Test Accuracy: 0.742\n",
      "Epoch: 1/2..  Training Loss: 0.793..  Test Loss: 0.639..  Test Accuracy: 0.762\n",
      "Epoch: 1/2..  Training Loss: 0.753..  Test Loss: 0.600..  Test Accuracy: 0.775\n",
      "Epoch: 1/2..  Training Loss: 0.741..  Test Loss: 0.585..  Test Accuracy: 0.782\n",
      "Epoch: 1/2..  Training Loss: 0.674..  Test Loss: 0.587..  Test Accuracy: 0.776\n",
      "Epoch: 1/2..  Training Loss: 0.681..  Test Loss: 0.580..  Test Accuracy: 0.786\n",
      "Epoch: 1/2..  Training Loss: 0.643..  Test Loss: 0.533..  Test Accuracy: 0.800\n",
      "Epoch: 1/2..  Training Loss: 0.619..  Test Loss: 0.547..  Test Accuracy: 0.794\n",
      "Epoch: 1/2..  Training Loss: 0.648..  Test Loss: 0.549..  Test Accuracy: 0.790\n",
      "Epoch: 1/2..  Training Loss: 0.611..  Test Loss: 0.536..  Test Accuracy: 0.801\n",
      "Epoch: 1/2..  Training Loss: 0.634..  Test Loss: 0.560..  Test Accuracy: 0.798\n",
      "Epoch: 1/2..  Training Loss: 0.651..  Test Loss: 0.521..  Test Accuracy: 0.810\n",
      "Epoch: 1/2..  Training Loss: 0.593..  Test Loss: 0.504..  Test Accuracy: 0.813\n",
      "Epoch: 1/2..  Training Loss: 0.607..  Test Loss: 0.505..  Test Accuracy: 0.809\n",
      "Epoch: 1/2..  Training Loss: 0.596..  Test Loss: 0.491..  Test Accuracy: 0.814\n",
      "Epoch: 1/2..  Training Loss: 0.581..  Test Loss: 0.503..  Test Accuracy: 0.810\n",
      "Epoch: 1/2..  Training Loss: 0.583..  Test Loss: 0.502..  Test Accuracy: 0.820\n",
      "Epoch: 1/2..  Training Loss: 0.565..  Test Loss: 0.490..  Test Accuracy: 0.815\n",
      "Epoch: 1/2..  Training Loss: 0.600..  Test Loss: 0.488..  Test Accuracy: 0.826\n",
      "Epoch: 1/2..  Training Loss: 0.575..  Test Loss: 0.513..  Test Accuracy: 0.809\n",
      "Epoch: 1/2..  Training Loss: 0.590..  Test Loss: 0.467..  Test Accuracy: 0.823\n",
      "Epoch: 2/2..  Training Loss: 0.530..  Test Loss: 0.504..  Test Accuracy: 0.809\n",
      "Epoch: 2/2..  Training Loss: 0.576..  Test Loss: 0.467..  Test Accuracy: 0.827\n",
      "Epoch: 2/2..  Training Loss: 0.552..  Test Loss: 0.467..  Test Accuracy: 0.831\n",
      "Epoch: 2/2..  Training Loss: 0.486..  Test Loss: 0.469..  Test Accuracy: 0.828\n",
      "Epoch: 2/2..  Training Loss: 0.526..  Test Loss: 0.465..  Test Accuracy: 0.831\n",
      "Epoch: 2/2..  Training Loss: 0.554..  Test Loss: 0.471..  Test Accuracy: 0.827\n",
      "Epoch: 2/2..  Training Loss: 0.517..  Test Loss: 0.477..  Test Accuracy: 0.829\n",
      "Epoch: 2/2..  Training Loss: 0.540..  Test Loss: 0.468..  Test Accuracy: 0.829\n",
      "Epoch: 2/2..  Training Loss: 0.548..  Test Loss: 0.452..  Test Accuracy: 0.833\n",
      "Epoch: 2/2..  Training Loss: 0.540..  Test Loss: 0.458..  Test Accuracy: 0.839\n",
      "Epoch: 2/2..  Training Loss: 0.570..  Test Loss: 0.453..  Test Accuracy: 0.835\n",
      "Epoch: 2/2..  Training Loss: 0.529..  Test Loss: 0.459..  Test Accuracy: 0.837\n",
      "Epoch: 2/2..  Training Loss: 0.563..  Test Loss: 0.466..  Test Accuracy: 0.832\n",
      "Epoch: 2/2..  Training Loss: 0.490..  Test Loss: 0.462..  Test Accuracy: 0.835\n",
      "Epoch: 2/2..  Training Loss: 0.489..  Test Loss: 0.469..  Test Accuracy: 0.824\n",
      "Epoch: 2/2..  Training Loss: 0.503..  Test Loss: 0.452..  Test Accuracy: 0.834\n",
      "Epoch: 2/2..  Training Loss: 0.568..  Test Loss: 0.471..  Test Accuracy: 0.822\n",
      "Epoch: 2/2..  Training Loss: 0.516..  Test Loss: 0.446..  Test Accuracy: 0.839\n",
      "Epoch: 2/2..  Training Loss: 0.508..  Test Loss: 0.441..  Test Accuracy: 0.837\n",
      "Epoch: 2/2..  Training Loss: 0.518..  Test Loss: 0.447..  Test Accuracy: 0.838\n",
      "Epoch: 2/2..  Training Loss: 0.503..  Test Loss: 0.435..  Test Accuracy: 0.841\n",
      "Epoch: 2/2..  Training Loss: 0.529..  Test Loss: 0.447..  Test Accuracy: 0.842\n",
      "Epoch: 2/2..  Training Loss: 0.528..  Test Loss: 0.454..  Test Accuracy: 0.841\n"
     ]
    }
   ],
   "source": [
    "fc_model.train(model, trainloader, testloader, criterion, optimizer, epochs=2)"
   ]
  },
  {
   "cell_type": "markdown",
   "metadata": {},
   "source": [
    "## Saving and loading networks\n",
    "\n",
    "As you can imagine, it's impractical to train a network every time you need to use it. Instead, we can save trained networks then load them later to train more or use them for predictions.\n",
    "\n",
    "The parameters for PyTorch networks are stored in a model's `state_dict`. We can see the state dict contains the weight and bias matrices for each of our layers."
   ]
  },
  {
   "cell_type": "code",
   "execution_count": 8,
   "metadata": {},
   "outputs": [
    {
     "name": "stdout",
     "output_type": "stream",
     "text": [
      "Our model: \n",
      "\n",
      " Network(\n",
      "  (hidden_layers): ModuleList(\n",
      "    (0): Linear(in_features=784, out_features=512, bias=True)\n",
      "    (1): Linear(in_features=512, out_features=256, bias=True)\n",
      "    (2): Linear(in_features=256, out_features=128, bias=True)\n",
      "  )\n",
      "  (output): Linear(in_features=128, out_features=10, bias=True)\n",
      "  (dropout): Dropout(p=0.5, inplace=False)\n",
      ") \n",
      "\n",
      "The state dict keys: \n",
      "\n",
      " odict_keys(['hidden_layers.0.weight', 'hidden_layers.0.bias', 'hidden_layers.1.weight', 'hidden_layers.1.bias', 'hidden_layers.2.weight', 'hidden_layers.2.bias', 'output.weight', 'output.bias'])\n"
     ]
    }
   ],
   "source": [
    "print(\"Our model: \\n\\n\", model, \"\\n\")\n",
    "print(\"The state dict keys: \\n\\n\", model.state_dict().keys())"
   ]
  },
  {
   "cell_type": "markdown",
   "metadata": {},
   "source": [
    "The simplest thing to do is simply save the state dict with `torch.save`. For example, we can save it to a file `'checkpoint.pth'`."
   ]
  },
  {
   "cell_type": "code",
   "execution_count": null,
   "metadata": {},
   "outputs": [],
   "source": [
    "torch.save(model.state_dict(), \"checkpoint.pth\")"
   ]
  },
  {
   "cell_type": "markdown",
   "metadata": {},
   "source": [
    "Then we can load the state dict with `torch.load`."
   ]
  },
  {
   "cell_type": "code",
   "execution_count": null,
   "metadata": {},
   "outputs": [],
   "source": [
    "state_dict = torch.load(\"checkpoint.pth\")\n",
    "print(state_dict.keys())"
   ]
  },
  {
   "cell_type": "markdown",
   "metadata": {},
   "source": [
    "And to load the state dict in to the network, you do `model.load_state_dict(state_dict)`."
   ]
  },
  {
   "cell_type": "code",
   "execution_count": null,
   "metadata": {},
   "outputs": [],
   "source": [
    "model.load_state_dict(state_dict)"
   ]
  },
  {
   "cell_type": "markdown",
   "metadata": {},
   "source": [
    "Seems pretty straightforward, but as usual it's a bit more complicated. Loading the state dict works only if the model architecture is exactly the same as the checkpoint architecture. If I create a model with a different architecture, this fails."
   ]
  },
  {
   "cell_type": "code",
   "execution_count": null,
   "metadata": {},
   "outputs": [],
   "source": [
    "# Try this\n",
    "model = fc_model.Network(784, 10, [400, 200, 100])\n",
    "# This will throw an error because the tensor sizes are wrong!\n",
    "model.load_state_dict(state_dict)"
   ]
  },
  {
   "cell_type": "markdown",
   "metadata": {},
   "source": [
    "This means we need to rebuild the model exactly as it was when trained. Information about the model architecture needs to be saved in the checkpoint, along with the state dict. To do this, you build a dictionary with all the information you need to completely rebuild the model."
   ]
  },
  {
   "cell_type": "code",
   "execution_count": null,
   "metadata": {},
   "outputs": [],
   "source": [
    "checkpoint = {\n",
    "    \"input_size\": 784,\n",
    "    \"output_size\": 10,\n",
    "    \"hidden_layers\": [each.out_features for each in model.hidden_layers],\n",
    "    \"state_dict\": model.state_dict(),\n",
    "}\n",
    "\n",
    "torch.save(checkpoint, \"checkpoint.pth\")"
   ]
  },
  {
   "cell_type": "markdown",
   "metadata": {},
   "source": [
    "Now the checkpoint has all the necessary information to rebuild the trained model. You can easily make that a function if you want. Similarly, we can write a function to load checkpoints. "
   ]
  },
  {
   "cell_type": "code",
   "execution_count": null,
   "metadata": {},
   "outputs": [],
   "source": [
    "def load_checkpoint(filepath):\n",
    "    \"\"\"Load checkpoint and rebuild the model.\"\"\"\n",
    "    checkpoint = torch.load(filepath)\n",
    "    model = fc_model.Network(checkpoint[\"input_size\"], checkpoint[\"output_size\"], checkpoint[\"hidden_layers\"])\n",
    "    model.load_state_dict(checkpoint[\"state_dict\"])\n",
    "\n",
    "    return model"
   ]
  },
  {
   "cell_type": "code",
   "execution_count": null,
   "metadata": {},
   "outputs": [],
   "source": [
    "model = load_checkpoint(\"checkpoint.pth\")\n",
    "print(model)"
   ]
  }
 ],
 "metadata": {
  "kernelspec": {
   "display_name": "MLOpsvenv",
   "language": "python",
   "name": "python3"
  },
  "language_info": {
   "codemirror_mode": {
    "name": "ipython",
    "version": 3
   },
   "file_extension": ".py",
   "mimetype": "text/x-python",
   "name": "python",
   "nbconvert_exporter": "python",
   "pygments_lexer": "ipython3",
   "version": "3.10.16"
  }
 },
 "nbformat": 4,
 "nbformat_minor": 2
}
